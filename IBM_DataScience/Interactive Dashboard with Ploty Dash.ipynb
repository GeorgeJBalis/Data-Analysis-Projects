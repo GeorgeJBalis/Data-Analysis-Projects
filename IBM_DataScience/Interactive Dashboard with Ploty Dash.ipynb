{
 "cells": [
  {
   "cell_type": "code",
   "execution_count": 1,
   "id": "3f32397b",
   "metadata": {},
   "outputs": [
    {
     "name": "stdout",
     "output_type": "stream",
     "text": [
      "Requirement already satisfied: pandas in c:\\users\\shred\\anaconda3\\lib\\site-packages (2.1.4)\n",
      "Collecting dash\n",
      "  Downloading dash-2.16.0-py3-none-any.whl.metadata (10 kB)\n",
      "Requirement already satisfied: numpy<2,>=1.23.2 in c:\\users\\shred\\anaconda3\\lib\\site-packages (from pandas) (1.26.4)\n",
      "Requirement already satisfied: python-dateutil>=2.8.2 in c:\\users\\shred\\anaconda3\\lib\\site-packages (from pandas) (2.8.2)\n",
      "Requirement already satisfied: pytz>=2020.1 in c:\\users\\shred\\anaconda3\\lib\\site-packages (from pandas) (2023.3.post1)\n",
      "Requirement already satisfied: tzdata>=2022.1 in c:\\users\\shred\\anaconda3\\lib\\site-packages (from pandas) (2023.3)\n",
      "Requirement already satisfied: Flask<3.1,>=1.0.4 in c:\\users\\shred\\anaconda3\\lib\\site-packages (from dash) (2.2.5)\n",
      "Requirement already satisfied: Werkzeug<3.1 in c:\\users\\shred\\anaconda3\\lib\\site-packages (from dash) (2.2.3)\n",
      "Requirement already satisfied: plotly>=5.0.0 in c:\\users\\shred\\anaconda3\\lib\\site-packages (from dash) (5.9.0)\n",
      "Collecting dash-html-components==2.0.0 (from dash)\n",
      "  Downloading dash_html_components-2.0.0-py3-none-any.whl.metadata (3.8 kB)\n",
      "Collecting dash-core-components==2.0.0 (from dash)\n",
      "  Downloading dash_core_components-2.0.0-py3-none-any.whl.metadata (2.9 kB)\n",
      "Collecting dash-table==5.0.0 (from dash)\n",
      "  Downloading dash_table-5.0.0-py3-none-any.whl.metadata (2.4 kB)\n",
      "Requirement already satisfied: importlib-metadata in c:\\users\\shred\\anaconda3\\lib\\site-packages (from dash) (7.0.1)\n",
      "Requirement already satisfied: typing-extensions>=4.1.1 in c:\\users\\shred\\anaconda3\\lib\\site-packages (from dash) (4.9.0)\n",
      "Requirement already satisfied: requests in c:\\users\\shred\\anaconda3\\lib\\site-packages (from dash) (2.31.0)\n",
      "Collecting retrying (from dash)\n",
      "  Downloading retrying-1.3.4-py3-none-any.whl.metadata (6.9 kB)\n",
      "Requirement already satisfied: nest-asyncio in c:\\users\\shred\\anaconda3\\lib\\site-packages (from dash) (1.6.0)\n",
      "Requirement already satisfied: setuptools in c:\\users\\shred\\anaconda3\\lib\\site-packages (from dash) (68.2.2)\n",
      "Requirement already satisfied: Jinja2>=3.0 in c:\\users\\shred\\anaconda3\\lib\\site-packages (from Flask<3.1,>=1.0.4->dash) (3.1.3)\n",
      "Requirement already satisfied: itsdangerous>=2.0 in c:\\users\\shred\\anaconda3\\lib\\site-packages (from Flask<3.1,>=1.0.4->dash) (2.0.1)\n",
      "Requirement already satisfied: click>=8.0 in c:\\users\\shred\\anaconda3\\lib\\site-packages (from Flask<3.1,>=1.0.4->dash) (8.1.7)\n",
      "Requirement already satisfied: tenacity>=6.2.0 in c:\\users\\shred\\anaconda3\\lib\\site-packages (from plotly>=5.0.0->dash) (8.2.2)\n",
      "Requirement already satisfied: six>=1.5 in c:\\users\\shred\\anaconda3\\lib\\site-packages (from python-dateutil>=2.8.2->pandas) (1.16.0)\n",
      "Requirement already satisfied: MarkupSafe>=2.1.1 in c:\\users\\shred\\anaconda3\\lib\\site-packages (from Werkzeug<3.1->dash) (2.1.3)\n",
      "Requirement already satisfied: zipp>=0.5 in c:\\users\\shred\\anaconda3\\lib\\site-packages (from importlib-metadata->dash) (3.17.0)\n",
      "Requirement already satisfied: charset-normalizer<4,>=2 in c:\\users\\shred\\anaconda3\\lib\\site-packages (from requests->dash) (2.0.4)\n",
      "Requirement already satisfied: idna<4,>=2.5 in c:\\users\\shred\\anaconda3\\lib\\site-packages (from requests->dash) (3.4)\n",
      "Requirement already satisfied: urllib3<3,>=1.21.1 in c:\\users\\shred\\anaconda3\\lib\\site-packages (from requests->dash) (2.0.7)\n",
      "Requirement already satisfied: certifi>=2017.4.17 in c:\\users\\shred\\anaconda3\\lib\\site-packages (from requests->dash) (2024.2.2)\n",
      "Requirement already satisfied: colorama in c:\\users\\shred\\anaconda3\\lib\\site-packages (from click>=8.0->Flask<3.1,>=1.0.4->dash) (0.4.6)\n",
      "Downloading dash-2.16.0-py3-none-any.whl (10.2 MB)\n",
      "   ---------------------------------------- 0.0/10.2 MB ? eta -:--:--\n",
      "   ---------------------------------------- 0.0/10.2 MB 640.0 kB/s eta 0:00:16\n",
      "    --------------------------------------- 0.1/10.2 MB 1.7 MB/s eta 0:00:06\n",
      "   - -------------------------------------- 0.4/10.2 MB 2.9 MB/s eta 0:00:04\n",
      "   -- ------------------------------------- 0.6/10.2 MB 3.6 MB/s eta 0:00:03\n",
      "   --- ------------------------------------ 0.8/10.2 MB 3.8 MB/s eta 0:00:03\n",
      "   --- ------------------------------------ 0.8/10.2 MB 3.8 MB/s eta 0:00:03\n",
      "   ----- ---------------------------------- 1.3/10.2 MB 4.2 MB/s eta 0:00:03\n",
      "   ----- ---------------------------------- 1.5/10.2 MB 4.2 MB/s eta 0:00:03\n",
      "   ------- -------------------------------- 1.8/10.2 MB 4.4 MB/s eta 0:00:02\n",
      "   ------- -------------------------------- 2.0/10.2 MB 4.4 MB/s eta 0:00:02\n",
      "   ------- -------------------------------- 2.0/10.2 MB 4.4 MB/s eta 0:00:02\n",
      "   -------- ------------------------------- 2.2/10.2 MB 4.1 MB/s eta 0:00:02\n",
      "   ---------- ----------------------------- 2.8/10.2 MB 4.7 MB/s eta 0:00:02\n",
      "   ----------- ---------------------------- 3.1/10.2 MB 4.8 MB/s eta 0:00:02\n",
      "   ------------ --------------------------- 3.3/10.2 MB 4.9 MB/s eta 0:00:02\n",
      "   ------------- -------------------------- 3.6/10.2 MB 5.0 MB/s eta 0:00:02\n",
      "   -------------- ------------------------- 3.8/10.2 MB 5.0 MB/s eta 0:00:02\n",
      "   --------------- ------------------------ 4.1/10.2 MB 4.9 MB/s eta 0:00:02\n",
      "   ---------------- ----------------------- 4.3/10.2 MB 4.9 MB/s eta 0:00:02\n",
      "   ----------------- ---------------------- 4.5/10.2 MB 5.0 MB/s eta 0:00:02\n",
      "   ------------------ --------------------- 4.7/10.2 MB 5.0 MB/s eta 0:00:02\n",
      "   ------------------- -------------------- 5.0/10.2 MB 5.0 MB/s eta 0:00:02\n",
      "   -------------------- ------------------- 5.3/10.2 MB 5.0 MB/s eta 0:00:01\n",
      "   --------------------- ------------------ 5.5/10.2 MB 5.0 MB/s eta 0:00:01\n",
      "   ---------------------- ----------------- 5.7/10.2 MB 5.0 MB/s eta 0:00:01\n",
      "   ----------------------- ---------------- 6.0/10.2 MB 5.0 MB/s eta 0:00:01\n",
      "   ------------------------ --------------- 6.3/10.2 MB 5.1 MB/s eta 0:00:01\n",
      "   ------------------------- -------------- 6.5/10.2 MB 5.0 MB/s eta 0:00:01\n",
      "   -------------------------- ------------- 6.7/10.2 MB 5.0 MB/s eta 0:00:01\n",
      "   --------------------------- ------------ 7.0/10.2 MB 5.1 MB/s eta 0:00:01\n",
      "   ---------------------------- ----------- 7.2/10.2 MB 5.1 MB/s eta 0:00:01\n",
      "   ----------------------------- ---------- 7.5/10.2 MB 5.1 MB/s eta 0:00:01\n",
      "   ------------------------------ --------- 7.7/10.2 MB 5.1 MB/s eta 0:00:01\n",
      "   ------------------------------- -------- 7.9/10.2 MB 5.1 MB/s eta 0:00:01\n",
      "   -------------------------------- ------- 8.2/10.2 MB 5.1 MB/s eta 0:00:01\n",
      "   --------------------------------- ------ 8.4/10.2 MB 5.1 MB/s eta 0:00:01\n",
      "   --------------------------------- ------ 8.6/10.2 MB 5.1 MB/s eta 0:00:01\n",
      "   --------------------------------- ------ 8.6/10.2 MB 5.1 MB/s eta 0:00:01\n",
      "   ----------------------------------- ---- 9.1/10.2 MB 5.0 MB/s eta 0:00:01\n",
      "   ------------------------------------ --- 9.3/10.2 MB 5.0 MB/s eta 0:00:01\n",
      "   ------------------------------------ --- 9.5/10.2 MB 5.0 MB/s eta 0:00:01\n",
      "   ------------------------------------- -- 9.6/10.2 MB 5.0 MB/s eta 0:00:01\n",
      "   ------------------------------------- -- 9.6/10.2 MB 5.0 MB/s eta 0:00:01\n",
      "   -------------------------------------- - 9.9/10.2 MB 4.8 MB/s eta 0:00:01\n",
      "   ---------------------------------------  10.1/10.2 MB 4.8 MB/s eta 0:00:01\n",
      "   ---------------------------------------  10.2/10.2 MB 4.8 MB/s eta 0:00:01\n",
      "   ---------------------------------------- 10.2/10.2 MB 4.8 MB/s eta 0:00:00\n",
      "Downloading dash_core_components-2.0.0-py3-none-any.whl (3.8 kB)\n",
      "Downloading dash_html_components-2.0.0-py3-none-any.whl (4.1 kB)\n",
      "Downloading dash_table-5.0.0-py3-none-any.whl (3.9 kB)\n",
      "Downloading retrying-1.3.4-py3-none-any.whl (11 kB)\n",
      "Installing collected packages: dash-table, dash-html-components, dash-core-components, retrying, dash\n",
      "Successfully installed dash-2.16.0 dash-core-components-2.0.0 dash-html-components-2.0.0 dash-table-5.0.0 retrying-1.3.4\n"
     ]
    }
   ],
   "source": [
    "!pip install pandas dash\n",
    "import pandas as pd\n",
    "import dash\n",
    "from dash import html, dcc\n",
    "from dash.dependencies import Input, Output\n",
    "import plotly.express as px"
   ]
  },
  {
   "cell_type": "code",
   "execution_count": 2,
   "id": "ad31d032",
   "metadata": {},
   "outputs": [
    {
     "data": {
      "text/plain": [
       "('spacex_launch_dash.csv', <http.client.HTTPMessage at 0x2c7fda3ae50>)"
      ]
     },
     "execution_count": 2,
     "metadata": {},
     "output_type": "execute_result"
    }
   ],
   "source": [
    "#download dataset as spacex_launch_dash.csv\n",
    "import urllib.request\n",
    "\n",
    "url = \"https://cf-courses-data.s3.us.cloud-object-storage.appdomain.cloud/IBM-DS0321EN-SkillsNetwork/datasets/spacex_launch_dash.csv\"\n",
    "filename = \"spacex_launch_dash.csv\"\n",
    "\n",
    "urllib.request.urlretrieve(url, filename)\n"
   ]
  },
  {
   "cell_type": "code",
   "execution_count": 3,
   "id": "2fe23084",
   "metadata": {},
   "outputs": [
    {
     "data": {
      "text/plain": [
       "('spacex_dash_app.py', <http.client.HTTPMessage at 0x2c7fda45890>)"
      ]
     },
     "execution_count": 3,
     "metadata": {},
     "output_type": "execute_result"
    }
   ],
   "source": [
    "#Download a skeleton Dash app to be completed in this lab:\n",
    "\n",
    "\n",
    "url = \"https://cf-courses-data.s3.us.cloud-object-storage.appdomain.cloud/IBM-DS0321EN-SkillsNetwork/labs/module_3/spacex_dash_app.py\"\n",
    "filenamedash = \"spacex_dash_app.py\"\n",
    "\n",
    "urllib.request.urlretrieve(url, filenamedash)\n"
   ]
  },
  {
   "cell_type": "code",
   "execution_count": 4,
   "id": "d3e055e0",
   "metadata": {},
   "outputs": [
    {
     "name": "stderr",
     "output_type": "stream",
     "text": [
      "C:\\Users\\shred\\Desktop\\capstone\\spacex_dash_app.py:4: UserWarning: \n",
      "The dash_html_components package is deprecated. Please replace\n",
      "`import dash_html_components as html` with `from dash import html`\n",
      "  import dash_html_components as html\n",
      "C:\\Users\\shred\\Desktop\\capstone\\spacex_dash_app.py:5: UserWarning: \n",
      "The dash_core_components package is deprecated. Please replace\n",
      "`import dash_core_components as dcc` with `from dash import dcc`\n",
      "  import dash_core_components as dcc\n"
     ]
    },
    {
     "data": {
      "text/html": [
       "\n",
       "        <iframe\n",
       "            width=\"100%\"\n",
       "            height=\"650\"\n",
       "            src=\"http://127.0.0.1:8050/\"\n",
       "            frameborder=\"0\"\n",
       "            allowfullscreen\n",
       "            \n",
       "        ></iframe>\n",
       "        "
      ],
      "text/plain": [
       "<IPython.lib.display.IFrame at 0x2c7f9f82750>"
      ]
     },
     "metadata": {},
     "output_type": "display_data"
    }
   ],
   "source": [
    "%run spacex_dash_app.py\n",
    "\n"
   ]
  },
  {
   "cell_type": "code",
   "execution_count": 5,
   "id": "b7854e85",
   "metadata": {},
   "outputs": [
    {
     "data": {
      "text/html": [
       "\n",
       "        <iframe\n",
       "            width=\"100%\"\n",
       "            height=\"650\"\n",
       "            src=\"http://127.0.0.1:8050/\"\n",
       "            frameborder=\"0\"\n",
       "            allowfullscreen\n",
       "            \n",
       "        ></iframe>\n",
       "        "
      ],
      "text/plain": [
       "<IPython.lib.display.IFrame at 0x2c7f9f7b250>"
      ]
     },
     "metadata": {},
     "output_type": "display_data"
    }
   ],
   "source": [
    "# Import required libraries\n",
    "import pandas as pd\n",
    "import dash\n",
    "import dash_html_components as html\n",
    "import dash_core_components as dcc\n",
    "from dash.dependencies import Input, Output\n",
    "import plotly.express as px\n",
    "\n",
    "# Read the airline data into pandas dataframe\n",
    "spacex_df = pd.read_csv(\"spacex_launch_dash.csv\")\n",
    "min_payload = int(spacex_df['Payload Mass (kg)'].min())\n",
    "max_payload = int(spacex_df['Payload Mass (kg)'].max())\n",
    "\n",
    "# Create a dash application\n",
    "app = dash.Dash(__name__)\n",
    "\n",
    "# Create an app layout\n",
    "app.layout = html.Div(children=[html.H1('SpaceX Launch Records Dashboard',\n",
    "                                        style={'textAlign': 'center', 'color': '#503D36',\n",
    "                                               'font-size': 40}),\n",
    "                                # Task 1: Add a dropdown list to enable Launch Site selection\n",
    "                                dcc.Dropdown(id='site-dropdown',\n",
    "                                             options=[\n",
    "                                                 {'label': 'All Sites', 'value': 'ALL'},\n",
    "                                                 {'label': 'CCAFS LC-40', 'value': 'CCAFS LC-40'},\n",
    "                                                 {'label': 'CCAFS SLC-40', 'value': 'CCAFS SLC-40'},\n",
    "                                                 {'label': 'KSC LC-39A', 'value': 'KSC LC-39A'},\n",
    "                                                 {'label': 'VAFB SLC-4E', 'value': 'VAFB SLC-4E'}\n",
    "                                             ],\n",
    "                                             value='ALL',\n",
    "                                             placeholder=\"Select a Launch Site here\",\n",
    "                                             searchable=True\n",
    "                                             ),\n",
    "                                html.Br(),\n",
    "\n",
    "                                # Task 2: Add a pie chart to show the total successful launches count for all sites\n",
    "                                html.Div(dcc.Graph(id='success-pie-chart')),\n",
    "                                html.Br(),\n",
    "\n",
    "                                html.P(\"Payload range (Kg):\"),\n",
    "                                # Task 3: Add a slider to select payload range\n",
    "                                dcc.RangeSlider(id='payload-slider',\n",
    "                                                min=min_payload, max=max_payload, step=1000,\n",
    "                                                marks={i: str(i) for i in range(min_payload, max_payload+1, 1000)},\n",
    "                                                value=[min_payload, max_payload]),\n",
    "\n",
    "                                # Task 4: Add a scatter chart to show the correlation between payload and launch success\n",
    "                                html.Div(dcc.Graph(id='success-payload-scatter-chart')),\n",
    "                                ])\n",
    "\n",
    "# Task 2: Add a callback function for site-dropdown as input, success-pie-chart as output\n",
    "@app.callback(Output(component_id='success-pie-chart', component_property='figure'),\n",
    "              Input(component_id='site-dropdown', component_property='value'))\n",
    "def get_pie_chart(entered_site):\n",
    "    if entered_site == 'ALL':\n",
    "        fig = px.pie(spacex_df, values='class', names='Launch Site', title='Total Success Launches for All Sites')\n",
    "    else:\n",
    "        filtered_df = spacex_df[spacex_df['Launch Site'] == entered_site]\n",
    "        counts = filtered_df['class'].value_counts()\n",
    "        fig = px.pie(names=counts.index, values=counts.values, title=f'Success vs. Failure for {entered_site}')\n",
    "    return fig\n",
    "\n",
    "# Task 4: Add a callback function for site-dropdown and payload-slider as inputs, success-payload-scatter-chart as output\n",
    "@app.callback(Output(component_id='success-payload-scatter-chart', component_property='figure'),\n",
    "              [Input(component_id='site-dropdown', component_property='value'), \n",
    "               Input(component_id=\"payload-slider\", component_property=\"value\")])\n",
    "def get_scatter_chart(entered_site, payload_range):\n",
    "    if entered_site == 'ALL':\n",
    "        filtered_df = spacex_df[(spacex_df['Payload Mass (kg)'] >= payload_range[0]) & \n",
    "                                (spacex_df['Payload Mass (kg)'] <= payload_range[1])]\n",
    "        fig = px.scatter(filtered_df, x='Payload Mass (kg)', y='class', color='Booster Version Category',\n",
    "                         title='Payload vs. Launch Outcome for All Sites')\n",
    "    else:\n",
    "        filtered_df = spacex_df[(spacex_df['Payload Mass (kg)'] >= payload_range[0]) & \n",
    "                                (spacex_df['Payload Mass (kg)'] <= payload_range[1]) &\n",
    "                                (spacex_df['Launch Site'] == entered_site)]\n",
    "        fig = px.scatter(filtered_df, x='Payload Mass (kg)', y='class', color='Booster Version Category',\n",
    "                         title=f'Payload vs. Launch Outcome for {entered_site}')\n",
    "    return fig\n",
    "\n",
    "# Run the app\n",
    "if __name__ == '__main__':\n",
    "    app.run_server()\n"
   ]
  },
  {
   "cell_type": "code",
   "execution_count": null,
   "id": "ded555fa",
   "metadata": {},
   "outputs": [],
   "source": [
    "\n"
   ]
  },
  {
   "cell_type": "code",
   "execution_count": null,
   "id": "4c29cf88",
   "metadata": {},
   "outputs": [],
   "source": []
  }
 ],
 "metadata": {
  "kernelspec": {
   "display_name": "Python 3 (ipykernel)",
   "language": "python",
   "name": "python3"
  },
  "language_info": {
   "codemirror_mode": {
    "name": "ipython",
    "version": 3
   },
   "file_extension": ".py",
   "mimetype": "text/x-python",
   "name": "python",
   "nbconvert_exporter": "python",
   "pygments_lexer": "ipython3",
   "version": "3.11.7"
  }
 },
 "nbformat": 4,
 "nbformat_minor": 5
}
