{
 "cells": [
  {
   "cell_type": "code",
   "execution_count": 3,
   "id": "3a07c8e9",
   "metadata": {},
   "outputs": [],
   "source": [
    "import pandas as pd"
   ]
  },
  {
   "cell_type": "code",
   "execution_count": 4,
   "id": "3d6dcbed",
   "metadata": {},
   "outputs": [],
   "source": [
    "#applying functions to Series\n",
    "\n",
    "titanic = pd.read_csv(\"titanic.csv\")"
   ]
  },
  {
   "cell_type": "code",
   "execution_count": 5,
   "id": "fbd61153",
   "metadata": {},
   "outputs": [
    {
     "name": "stdout",
     "output_type": "stream",
     "text": [
      "<class 'pandas.core.frame.DataFrame'>\n",
      "RangeIndex: 1309 entries, 0 to 1308\n",
      "Data columns (total 14 columns):\n",
      " #   Column     Non-Null Count  Dtype \n",
      "---  ------     --------------  ----- \n",
      " 0   pclass     1309 non-null   int64 \n",
      " 1   survived   1309 non-null   int64 \n",
      " 2   name       1309 non-null   object\n",
      " 3   sex        1309 non-null   object\n",
      " 4   age        1309 non-null   object\n",
      " 5   sibsp      1309 non-null   int64 \n",
      " 6   parch      1309 non-null   int64 \n",
      " 7   ticket     1309 non-null   object\n",
      " 8   fare       1309 non-null   object\n",
      " 9   cabin      1309 non-null   object\n",
      " 10  embarked   1309 non-null   object\n",
      " 11  boat       1309 non-null   object\n",
      " 12  body       1309 non-null   object\n",
      " 13  home.dest  1309 non-null   object\n",
      "dtypes: int64(4), object(10)\n",
      "memory usage: 143.3+ KB\n"
     ]
    }
   ],
   "source": [
    "titanic.info()"
   ]
  },
  {
   "cell_type": "code",
   "execution_count": 6,
   "id": "b5d73af5",
   "metadata": {},
   "outputs": [],
   "source": [
    "titanic[\"age\"] = pd.to_numeric(titanic[\"age\"], errors=\"coerce\")"
   ]
  },
  {
   "cell_type": "code",
   "execution_count": 7,
   "id": "f5fa2f8c",
   "metadata": {},
   "outputs": [],
   "source": [
    "titanic[\"fare\"] = pd.to_numeric(titanic[\"fare\"], errors=\"coerce\")"
   ]
  },
  {
   "cell_type": "code",
   "execution_count": 8,
   "id": "9021861f",
   "metadata": {},
   "outputs": [
    {
     "name": "stdout",
     "output_type": "stream",
     "text": [
      "<class 'pandas.core.frame.DataFrame'>\n",
      "RangeIndex: 1309 entries, 0 to 1308\n",
      "Data columns (total 14 columns):\n",
      " #   Column     Non-Null Count  Dtype  \n",
      "---  ------     --------------  -----  \n",
      " 0   pclass     1309 non-null   int64  \n",
      " 1   survived   1309 non-null   int64  \n",
      " 2   name       1309 non-null   object \n",
      " 3   sex        1309 non-null   object \n",
      " 4   age        1046 non-null   float64\n",
      " 5   sibsp      1309 non-null   int64  \n",
      " 6   parch      1309 non-null   int64  \n",
      " 7   ticket     1309 non-null   object \n",
      " 8   fare       1308 non-null   float64\n",
      " 9   cabin      1309 non-null   object \n",
      " 10  embarked   1309 non-null   object \n",
      " 11  boat       1309 non-null   object \n",
      " 12  body       1309 non-null   object \n",
      " 13  home.dest  1309 non-null   object \n",
      "dtypes: float64(2), int64(4), object(8)\n",
      "memory usage: 143.3+ KB\n"
     ]
    }
   ],
   "source": [
    "titanic.info()"
   ]
  },
  {
   "cell_type": "code",
   "execution_count": 9,
   "id": "f2edbf89",
   "metadata": {},
   "outputs": [],
   "source": [
    "def years_to_days(yrs):\n",
    "    return yrs*365"
   ]
  },
  {
   "cell_type": "code",
   "execution_count": 10,
   "id": "327b55cc",
   "metadata": {},
   "outputs": [
    {
     "data": {
      "text/plain": [
       "0       10585.0000\n",
       "1         334.5955\n",
       "2         730.0000\n",
       "3       10950.0000\n",
       "4        9125.0000\n",
       "           ...    \n",
       "1304     5292.5000\n",
       "1305           NaN\n",
       "1306     9672.5000\n",
       "1307     9855.0000\n",
       "1308    10585.0000\n",
       "Name: age, Length: 1309, dtype: float64"
      ]
     },
     "execution_count": 10,
     "metadata": {},
     "output_type": "execute_result"
    }
   ],
   "source": [
    "titanic[\"age\"].apply(years_to_days)\n",
    "#NaN values remain."
   ]
  },
  {
   "cell_type": "code",
   "execution_count": 11,
   "id": "f44ef1f8",
   "metadata": {},
   "outputs": [],
   "source": [
    "#defining age groups\n",
    "\n",
    "def get_age_group(age):\n",
    "    if age < 1 :\n",
    "        return \"infant\"\n",
    "    elif age < 12 :\n",
    "        return \"child\"\n",
    "    elif age < 18 :\n",
    "        return \"teen\"\n",
    "    elif age < 60 :\n",
    "        return \"adult\"\n",
    "    else:\n",
    "        return \"senior\"\n",
    "    \n",
    "    "
   ]
  },
  {
   "cell_type": "code",
   "execution_count": 12,
   "id": "5a2b4841",
   "metadata": {},
   "outputs": [],
   "source": [
    "#Creating a new column with the age groups\n",
    "\n",
    "titanic[\"age_groups\"] = titanic[\"age\"].apply(get_age_group)"
   ]
  },
  {
   "cell_type": "code",
   "execution_count": 13,
   "id": "85e1737d",
   "metadata": {},
   "outputs": [
    {
     "data": {
      "text/plain": [
       "adult     852\n",
       "senior    303\n",
       "child      79\n",
       "teen       63\n",
       "infant     12\n",
       "Name: age_groups, dtype: int64"
      ]
     },
     "execution_count": 13,
     "metadata": {},
     "output_type": "execute_result"
    }
   ],
   "source": [
    "titanic[\"age_groups\"].value_counts()"
   ]
  },
  {
   "cell_type": "code",
   "execution_count": 14,
   "id": "4d97c6c9",
   "metadata": {},
   "outputs": [],
   "source": [
    "survival = titanic.groupby([\"age_groups\",\"sex\"])[\"survived\"].mean()"
   ]
  },
  {
   "cell_type": "code",
   "execution_count": 15,
   "id": "0c47e86f",
   "metadata": {},
   "outputs": [
    {
     "data": {
      "text/plain": [
       "<AxesSubplot:xlabel='age_groups'>"
      ]
     },
     "execution_count": 15,
     "metadata": {},
     "output_type": "execute_result"
    },
    {
     "data": {
      "image/png": "[encoded data removed]",
      "text/plain": [
       "<Figure size 640x480 with 1 Axes>"
      ]
     },
     "metadata": {},
     "output_type": "display_data"
    }
   ],
   "source": [
    "survival.unstack().plot(kind=\"bar\")\n",
    "#We notice a large gap between the survival rates of males and females for teenager,\n",
    "#adult and senior age groups"
   ]
  },
  {
   "cell_type": "code",
   "execution_count": 16,
   "id": "ead9fcc4",
   "metadata": {},
   "outputs": [],
   "source": [
    "#applying function to Dataframe\n",
    "\n",
    "def get_range(s):\n",
    "    return s.max() - s.min()"
   ]
  },
  {
   "cell_type": "code",
   "execution_count": 17,
   "id": "396260dc",
   "metadata": {},
   "outputs": [],
   "source": [
    "df1 = titanic[[\"pclass\",\"survived\",\"age\",\"fare\"]]\n"
   ]
  },
  {
   "cell_type": "code",
   "execution_count": 18,
   "id": "f7b9a165",
   "metadata": {},
   "outputs": [
    {
     "data": {
      "text/html": [
       "<div>\n",
       "<style scoped>\n",
       "    .dataframe tbody tr th:only-of-type {\n",
       "        vertical-align: middle;\n",
       "    }\n",
       "\n",
       "    .dataframe tbody tr th {\n",
       "        vertical-align: top;\n",
       "    }\n",
       "\n",
       "    .dataframe thead th {\n",
       "        text-align: right;\n",
       "    }\n",
       "</style>\n",
       "<table border=\"1\" class=\"dataframe\">\n",
       "  <thead>\n",
       "    <tr style=\"text-align: right;\">\n",
       "      <th></th>\n",
       "      <th>pclass</th>\n",
       "      <th>survived</th>\n",
       "      <th>age</th>\n",
       "      <th>fare</th>\n",
       "    </tr>\n",
       "  </thead>\n",
       "  <tbody>\n",
       "    <tr>\n",
       "      <th>0</th>\n",
       "      <td>1</td>\n",
       "      <td>1</td>\n",
       "      <td>29.0000</td>\n",
       "      <td>211.3375</td>\n",
       "    </tr>\n",
       "    <tr>\n",
       "      <th>1</th>\n",
       "      <td>1</td>\n",
       "      <td>1</td>\n",
       "      <td>0.9167</td>\n",
       "      <td>151.5500</td>\n",
       "    </tr>\n",
       "    <tr>\n",
       "      <th>2</th>\n",
       "      <td>1</td>\n",
       "      <td>0</td>\n",
       "      <td>2.0000</td>\n",
       "      <td>151.5500</td>\n",
       "    </tr>\n",
       "    <tr>\n",
       "      <th>3</th>\n",
       "      <td>1</td>\n",
       "      <td>0</td>\n",
       "      <td>30.0000</td>\n",
       "      <td>151.5500</td>\n",
       "    </tr>\n",
       "    <tr>\n",
       "      <th>4</th>\n",
       "      <td>1</td>\n",
       "      <td>0</td>\n",
       "      <td>25.0000</td>\n",
       "      <td>151.5500</td>\n",
       "    </tr>\n",
       "    <tr>\n",
       "      <th>...</th>\n",
       "      <td>...</td>\n",
       "      <td>...</td>\n",
       "      <td>...</td>\n",
       "      <td>...</td>\n",
       "    </tr>\n",
       "    <tr>\n",
       "      <th>1304</th>\n",
       "      <td>3</td>\n",
       "      <td>0</td>\n",
       "      <td>14.5000</td>\n",
       "      <td>14.4542</td>\n",
       "    </tr>\n",
       "    <tr>\n",
       "      <th>1305</th>\n",
       "      <td>3</td>\n",
       "      <td>0</td>\n",
       "      <td>NaN</td>\n",
       "      <td>14.4542</td>\n",
       "    </tr>\n",
       "    <tr>\n",
       "      <th>1306</th>\n",
       "      <td>3</td>\n",
       "      <td>0</td>\n",
       "      <td>26.5000</td>\n",
       "      <td>7.2250</td>\n",
       "    </tr>\n",
       "    <tr>\n",
       "      <th>1307</th>\n",
       "      <td>3</td>\n",
       "      <td>0</td>\n",
       "      <td>27.0000</td>\n",
       "      <td>7.2250</td>\n",
       "    </tr>\n",
       "    <tr>\n",
       "      <th>1308</th>\n",
       "      <td>3</td>\n",
       "      <td>0</td>\n",
       "      <td>29.0000</td>\n",
       "      <td>7.8750</td>\n",
       "    </tr>\n",
       "  </tbody>\n",
       "</table>\n",
       "<p>1309 rows × 4 columns</p>\n",
       "</div>"
      ],
      "text/plain": [
       "      pclass  survived      age      fare\n",
       "0          1         1  29.0000  211.3375\n",
       "1          1         1   0.9167  151.5500\n",
       "2          1         0   2.0000  151.5500\n",
       "3          1         0  30.0000  151.5500\n",
       "4          1         0  25.0000  151.5500\n",
       "...      ...       ...      ...       ...\n",
       "1304       3         0  14.5000   14.4542\n",
       "1305       3         0      NaN   14.4542\n",
       "1306       3         0  26.5000    7.2250\n",
       "1307       3         0  27.0000    7.2250\n",
       "1308       3         0  29.0000    7.8750\n",
       "\n",
       "[1309 rows x 4 columns]"
      ]
     },
     "execution_count": 18,
     "metadata": {},
     "output_type": "execute_result"
    }
   ],
   "source": [
    "df1"
   ]
  },
  {
   "cell_type": "code",
   "execution_count": 27,
   "id": "d9e2df13",
   "metadata": {},
   "outputs": [
    {
     "data": {
      "text/plain": [
       "pclass        2.0000\n",
       "survived      1.0000\n",
       "age          79.8333\n",
       "fare        512.3292\n",
       "dtype: float64"
      ]
     },
     "execution_count": 27,
     "metadata": {},
     "output_type": "execute_result"
    }
   ],
   "source": [
    "df1.apply(get_range)\n",
    "#by default axis= 0 / Getting the range (max-min) for all columns."
   ]
  },
  {
   "cell_type": "code",
   "execution_count": 20,
   "id": "68b7e5e6",
   "metadata": {},
   "outputs": [],
   "source": [
    "# We can use .apply() with axis=1 to access rows. \n",
    "\n",
    "def get_family_size(s):\n",
    "    fam_size = s[\"sibsp\"] + s[\"parch\"]\n",
    "    if fam_size == 0 :\n",
    "        return \"single\"\n",
    "    elif fam_size < 5 :\n",
    "        return \"average\"\n",
    "    else :\n",
    "        return \"large\"\n",
    "\n"
   ]
  },
  {
   "cell_type": "code",
   "execution_count": 21,
   "id": "202166c9",
   "metadata": {},
   "outputs": [],
   "source": [
    "#Creating a new column with the family size values\n",
    "titanic[\"fam_size\"] = titanic.apply(get_family_size,axis=1)"
   ]
  },
  {
   "cell_type": "code",
   "execution_count": 31,
   "id": "a02a01cc",
   "metadata": {},
   "outputs": [
    {
     "data": {
      "text/plain": [
       "<AxesSubplot:xlabel='fam_size'>"
      ]
     },
     "execution_count": 31,
     "metadata": {},
     "output_type": "execute_result"
    },
    {
     "data": {
      "image/png": "[encoded data removed]",
      "text/plain": [
       "<Figure size 640x480 with 1 Axes>"
      ]
     },
     "metadata": {},
     "output_type": "display_data"
    }
   ],
   "source": [
    "titanic.groupby(\"fam_size\")[\"survived\"].mean().sort_values().plot(kind=\"bar\")\n",
    "# People with large families had the lowest survival rate."
   ]
  },
  {
   "cell_type": "code",
   "execution_count": 23,
   "id": "0c070fc7",
   "metadata": {
    "scrolled": false
   },
   "outputs": [
    {
     "data": {
      "text/html": [
       "<div>\n",
       "<style scoped>\n",
       "    .dataframe tbody tr th:only-of-type {\n",
       "        vertical-align: middle;\n",
       "    }\n",
       "\n",
       "    .dataframe tbody tr th {\n",
       "        vertical-align: top;\n",
       "    }\n",
       "\n",
       "    .dataframe thead th {\n",
       "        text-align: right;\n",
       "    }\n",
       "</style>\n",
       "<table border=\"1\" class=\"dataframe\">\n",
       "  <thead>\n",
       "    <tr style=\"text-align: right;\">\n",
       "      <th></th>\n",
       "      <th>pclass</th>\n",
       "      <th>survived</th>\n",
       "      <th>name</th>\n",
       "      <th>sex</th>\n",
       "      <th>age</th>\n",
       "      <th>sibsp</th>\n",
       "      <th>parch</th>\n",
       "      <th>ticket</th>\n",
       "      <th>fare</th>\n",
       "      <th>cabin</th>\n",
       "      <th>embarked</th>\n",
       "      <th>boat</th>\n",
       "      <th>body</th>\n",
       "      <th>home.dest</th>\n",
       "      <th>age_groups</th>\n",
       "      <th>fam_size</th>\n",
       "    </tr>\n",
       "  </thead>\n",
       "  <tbody>\n",
       "    <tr>\n",
       "      <th>1</th>\n",
       "      <td>1</td>\n",
       "      <td>1</td>\n",
       "      <td>Allison, Master. Hudson Trevor</td>\n",
       "      <td>male</td>\n",
       "      <td>0.9167</td>\n",
       "      <td>1</td>\n",
       "      <td>2</td>\n",
       "      <td>113781</td>\n",
       "      <td>151.5500</td>\n",
       "      <td>C22 C26</td>\n",
       "      <td>S</td>\n",
       "      <td>11</td>\n",
       "      <td>?</td>\n",
       "      <td>Montreal, PQ / Chesterville, ON</td>\n",
       "      <td>infant</td>\n",
       "      <td>average</td>\n",
       "    </tr>\n",
       "    <tr>\n",
       "      <th>2</th>\n",
       "      <td>1</td>\n",
       "      <td>0</td>\n",
       "      <td>Allison, Miss. Helen Loraine</td>\n",
       "      <td>female</td>\n",
       "      <td>2.0000</td>\n",
       "      <td>1</td>\n",
       "      <td>2</td>\n",
       "      <td>113781</td>\n",
       "      <td>151.5500</td>\n",
       "      <td>C22 C26</td>\n",
       "      <td>S</td>\n",
       "      <td>?</td>\n",
       "      <td>?</td>\n",
       "      <td>Montreal, PQ / Chesterville, ON</td>\n",
       "      <td>child</td>\n",
       "      <td>average</td>\n",
       "    </tr>\n",
       "    <tr>\n",
       "      <th>53</th>\n",
       "      <td>1</td>\n",
       "      <td>0</td>\n",
       "      <td>Carrau, Mr. Jose Pedro</td>\n",
       "      <td>male</td>\n",
       "      <td>17.0000</td>\n",
       "      <td>0</td>\n",
       "      <td>0</td>\n",
       "      <td>113059</td>\n",
       "      <td>47.1000</td>\n",
       "      <td>?</td>\n",
       "      <td>S</td>\n",
       "      <td>?</td>\n",
       "      <td>?</td>\n",
       "      <td>Montevideo, Uruguay</td>\n",
       "      <td>teen</td>\n",
       "      <td>single</td>\n",
       "    </tr>\n",
       "    <tr>\n",
       "      <th>54</th>\n",
       "      <td>1</td>\n",
       "      <td>1</td>\n",
       "      <td>Carter, Master. William Thornton II</td>\n",
       "      <td>male</td>\n",
       "      <td>11.0000</td>\n",
       "      <td>1</td>\n",
       "      <td>2</td>\n",
       "      <td>113760</td>\n",
       "      <td>120.0000</td>\n",
       "      <td>B96 B98</td>\n",
       "      <td>S</td>\n",
       "      <td>4</td>\n",
       "      <td>?</td>\n",
       "      <td>Bryn Mawr, PA</td>\n",
       "      <td>child</td>\n",
       "      <td>average</td>\n",
       "    </tr>\n",
       "    <tr>\n",
       "      <th>55</th>\n",
       "      <td>1</td>\n",
       "      <td>1</td>\n",
       "      <td>Carter, Miss. Lucile Polk</td>\n",
       "      <td>female</td>\n",
       "      <td>14.0000</td>\n",
       "      <td>1</td>\n",
       "      <td>2</td>\n",
       "      <td>113760</td>\n",
       "      <td>120.0000</td>\n",
       "      <td>B96 B98</td>\n",
       "      <td>S</td>\n",
       "      <td>4</td>\n",
       "      <td>?</td>\n",
       "      <td>Bryn Mawr, PA</td>\n",
       "      <td>teen</td>\n",
       "      <td>average</td>\n",
       "    </tr>\n",
       "    <tr>\n",
       "      <th>...</th>\n",
       "      <td>...</td>\n",
       "      <td>...</td>\n",
       "      <td>...</td>\n",
       "      <td>...</td>\n",
       "      <td>...</td>\n",
       "      <td>...</td>\n",
       "      <td>...</td>\n",
       "      <td>...</td>\n",
       "      <td>...</td>\n",
       "      <td>...</td>\n",
       "      <td>...</td>\n",
       "      <td>...</td>\n",
       "      <td>...</td>\n",
       "      <td>...</td>\n",
       "      <td>...</td>\n",
       "      <td>...</td>\n",
       "    </tr>\n",
       "    <tr>\n",
       "      <th>1265</th>\n",
       "      <td>3</td>\n",
       "      <td>0</td>\n",
       "      <td>Van Impe, Miss. Catharina</td>\n",
       "      <td>female</td>\n",
       "      <td>10.0000</td>\n",
       "      <td>0</td>\n",
       "      <td>2</td>\n",
       "      <td>345773</td>\n",
       "      <td>24.1500</td>\n",
       "      <td>?</td>\n",
       "      <td>S</td>\n",
       "      <td>?</td>\n",
       "      <td>?</td>\n",
       "      <td>?</td>\n",
       "      <td>child</td>\n",
       "      <td>average</td>\n",
       "    </tr>\n",
       "    <tr>\n",
       "      <th>1275</th>\n",
       "      <td>3</td>\n",
       "      <td>0</td>\n",
       "      <td>Vander Planke, Mr. Leo Edmondus</td>\n",
       "      <td>male</td>\n",
       "      <td>16.0000</td>\n",
       "      <td>2</td>\n",
       "      <td>0</td>\n",
       "      <td>345764</td>\n",
       "      <td>18.0000</td>\n",
       "      <td>?</td>\n",
       "      <td>S</td>\n",
       "      <td>?</td>\n",
       "      <td>?</td>\n",
       "      <td>?</td>\n",
       "      <td>teen</td>\n",
       "      <td>average</td>\n",
       "    </tr>\n",
       "    <tr>\n",
       "      <th>1279</th>\n",
       "      <td>3</td>\n",
       "      <td>0</td>\n",
       "      <td>Vestrom, Miss. Hulda Amanda Adolfina</td>\n",
       "      <td>female</td>\n",
       "      <td>14.0000</td>\n",
       "      <td>0</td>\n",
       "      <td>0</td>\n",
       "      <td>350406</td>\n",
       "      <td>7.8542</td>\n",
       "      <td>?</td>\n",
       "      <td>S</td>\n",
       "      <td>?</td>\n",
       "      <td>?</td>\n",
       "      <td>?</td>\n",
       "      <td>teen</td>\n",
       "      <td>single</td>\n",
       "    </tr>\n",
       "    <tr>\n",
       "      <th>1300</th>\n",
       "      <td>3</td>\n",
       "      <td>1</td>\n",
       "      <td>Yasbeck, Mrs. Antoni (Selini Alexander)</td>\n",
       "      <td>female</td>\n",
       "      <td>15.0000</td>\n",
       "      <td>1</td>\n",
       "      <td>0</td>\n",
       "      <td>2659</td>\n",
       "      <td>14.4542</td>\n",
       "      <td>?</td>\n",
       "      <td>C</td>\n",
       "      <td>?</td>\n",
       "      <td>?</td>\n",
       "      <td>?</td>\n",
       "      <td>teen</td>\n",
       "      <td>average</td>\n",
       "    </tr>\n",
       "    <tr>\n",
       "      <th>1304</th>\n",
       "      <td>3</td>\n",
       "      <td>0</td>\n",
       "      <td>Zabour, Miss. Hileni</td>\n",
       "      <td>female</td>\n",
       "      <td>14.5000</td>\n",
       "      <td>1</td>\n",
       "      <td>0</td>\n",
       "      <td>2665</td>\n",
       "      <td>14.4542</td>\n",
       "      <td>?</td>\n",
       "      <td>C</td>\n",
       "      <td>?</td>\n",
       "      <td>328</td>\n",
       "      <td>?</td>\n",
       "      <td>teen</td>\n",
       "      <td>average</td>\n",
       "    </tr>\n",
       "  </tbody>\n",
       "</table>\n",
       "<p>154 rows × 16 columns</p>\n",
       "</div>"
      ],
      "text/plain": [
       "      pclass  survived                                     name     sex  \\\n",
       "1          1         1           Allison, Master. Hudson Trevor    male   \n",
       "2          1         0             Allison, Miss. Helen Loraine  female   \n",
       "53         1         0                   Carrau, Mr. Jose Pedro    male   \n",
       "54         1         1      Carter, Master. William Thornton II    male   \n",
       "55         1         1                Carter, Miss. Lucile Polk  female   \n",
       "...      ...       ...                                      ...     ...   \n",
       "1265       3         0                Van Impe, Miss. Catharina  female   \n",
       "1275       3         0          Vander Planke, Mr. Leo Edmondus    male   \n",
       "1279       3         0     Vestrom, Miss. Hulda Amanda Adolfina  female   \n",
       "1300       3         1  Yasbeck, Mrs. Antoni (Selini Alexander)  female   \n",
       "1304       3         0                     Zabour, Miss. Hileni  female   \n",
       "\n",
       "          age  sibsp  parch  ticket      fare    cabin embarked boat body  \\\n",
       "1      0.9167      1      2  113781  151.5500  C22 C26        S   11    ?   \n",
       "2      2.0000      1      2  113781  151.5500  C22 C26        S    ?    ?   \n",
       "53    17.0000      0      0  113059   47.1000        ?        S    ?    ?   \n",
       "54    11.0000      1      2  113760  120.0000  B96 B98        S    4    ?   \n",
       "55    14.0000      1      2  113760  120.0000  B96 B98        S    4    ?   \n",
       "...       ...    ...    ...     ...       ...      ...      ...  ...  ...   \n",
       "1265  10.0000      0      2  345773   24.1500        ?        S    ?    ?   \n",
       "1275  16.0000      2      0  345764   18.0000        ?        S    ?    ?   \n",
       "1279  14.0000      0      0  350406    7.8542        ?        S    ?    ?   \n",
       "1300  15.0000      1      0    2659   14.4542        ?        C    ?    ?   \n",
       "1304  14.5000      1      0    2665   14.4542        ?        C    ?  328   \n",
       "\n",
       "                            home.dest age_groups fam_size  \n",
       "1     Montreal, PQ / Chesterville, ON     infant  average  \n",
       "2     Montreal, PQ / Chesterville, ON      child  average  \n",
       "53                Montevideo, Uruguay       teen   single  \n",
       "54                      Bryn Mawr, PA      child  average  \n",
       "55                      Bryn Mawr, PA       teen  average  \n",
       "...                               ...        ...      ...  \n",
       "1265                                ?      child  average  \n",
       "1275                                ?       teen  average  \n",
       "1279                                ?       teen   single  \n",
       "1300                                ?       teen  average  \n",
       "1304                                ?       teen  average  \n",
       "\n",
       "[154 rows x 16 columns]"
      ]
     },
     "execution_count": 23,
     "metadata": {},
     "output_type": "execute_result"
    }
   ],
   "source": [
    "#finding all underage passengers using .map()\n",
    "\n",
    "titanic[titanic[\"age\"].map(lambda a : a < 18)]"
   ]
  }
 ],
 "metadata": {
  "kernelspec": {
   "display_name": "Python 3 (ipykernel)",
   "language": "python",
   "name": "python3"
  },
  "language_info": {
   "codemirror_mode": {
    "name": "ipython",
    "version": 3
   },
   "file_extension": ".py",
   "mimetype": "text/x-python",
   "name": "python",
   "nbconvert_exporter": "python",
   "pygments_lexer": "ipython3",
   "version": "3.9.13"
  }
 },
 "nbformat": 4,
 "nbformat_minor": 5
}
